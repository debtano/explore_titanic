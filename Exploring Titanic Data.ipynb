{
 "cells": [
  {
   "cell_type": "markdown",
   "metadata": {},
   "source": [
    "# My Data Set : Titanic data\n",
    "\n",
    "I have choosen the Titanic Data because the Titanic was one of my strongest fantasys when i was young. I actually did \n",
    "a small investigation with a map and the information available about it sinking circunstances and I was pretty sure that i had a good grip on the location for when i was older :-) .\n",
    "When, I grew older and i wont be able to deep dive the Titanic waters and abysm but I will try to get into the waters of its dataset to find out it some secrets."
   ]
  },
  {
   "cell_type": "markdown",
   "metadata": {},
   "source": [
    "## Initial review of the set and questions\n",
    "\n",
    "I will start by taking a look at the data, an initial \"how-it-feels\" look at the data.\n",
    "Will start setting up required libraries and exporting the CSV. \n",
    "Then, I will formulate the questions."
   ]
  },
  {
   "cell_type": "code",
   "execution_count": 2,
   "metadata": {
    "collapsed": false
   },
   "outputs": [],
   "source": [
    "filename = 'titanic-data.csv'\n",
    "\n",
    "import matplotlib.pyplot as plt\n",
    "import numpy as np\n",
    "import pandas as pd\n",
    "import seaborn as sns"
   ]
  },
  {
   "cell_type": "code",
   "execution_count": 3,
   "metadata": {
    "collapsed": false
   },
   "outputs": [
    {
     "data": {
      "text/html": [
       "<div>\n",
       "<table border=\"1\" class=\"dataframe\">\n",
       "  <thead>\n",
       "    <tr style=\"text-align: right;\">\n",
       "      <th></th>\n",
       "      <th>PassengerId</th>\n",
       "      <th>Survived</th>\n",
       "      <th>Pclass</th>\n",
       "      <th>Name</th>\n",
       "      <th>Sex</th>\n",
       "      <th>Age</th>\n",
       "      <th>SibSp</th>\n",
       "      <th>Parch</th>\n",
       "      <th>Ticket</th>\n",
       "      <th>Fare</th>\n",
       "      <th>Cabin</th>\n",
       "      <th>Embarked</th>\n",
       "    </tr>\n",
       "  </thead>\n",
       "  <tbody>\n",
       "    <tr>\n",
       "      <th>0</th>\n",
       "      <td>1</td>\n",
       "      <td>0</td>\n",
       "      <td>3</td>\n",
       "      <td>Braund, Mr. Owen Harris</td>\n",
       "      <td>male</td>\n",
       "      <td>22.0</td>\n",
       "      <td>1</td>\n",
       "      <td>0</td>\n",
       "      <td>A/5 21171</td>\n",
       "      <td>7.2500</td>\n",
       "      <td>NaN</td>\n",
       "      <td>S</td>\n",
       "    </tr>\n",
       "    <tr>\n",
       "      <th>1</th>\n",
       "      <td>2</td>\n",
       "      <td>1</td>\n",
       "      <td>1</td>\n",
       "      <td>Cumings, Mrs. John Bradley (Florence Briggs Th...</td>\n",
       "      <td>female</td>\n",
       "      <td>38.0</td>\n",
       "      <td>1</td>\n",
       "      <td>0</td>\n",
       "      <td>PC 17599</td>\n",
       "      <td>71.2833</td>\n",
       "      <td>C85</td>\n",
       "      <td>C</td>\n",
       "    </tr>\n",
       "    <tr>\n",
       "      <th>2</th>\n",
       "      <td>3</td>\n",
       "      <td>1</td>\n",
       "      <td>3</td>\n",
       "      <td>Heikkinen, Miss. Laina</td>\n",
       "      <td>female</td>\n",
       "      <td>26.0</td>\n",
       "      <td>0</td>\n",
       "      <td>0</td>\n",
       "      <td>STON/O2. 3101282</td>\n",
       "      <td>7.9250</td>\n",
       "      <td>NaN</td>\n",
       "      <td>S</td>\n",
       "    </tr>\n",
       "    <tr>\n",
       "      <th>3</th>\n",
       "      <td>4</td>\n",
       "      <td>1</td>\n",
       "      <td>1</td>\n",
       "      <td>Futrelle, Mrs. Jacques Heath (Lily May Peel)</td>\n",
       "      <td>female</td>\n",
       "      <td>35.0</td>\n",
       "      <td>1</td>\n",
       "      <td>0</td>\n",
       "      <td>113803</td>\n",
       "      <td>53.1000</td>\n",
       "      <td>C123</td>\n",
       "      <td>S</td>\n",
       "    </tr>\n",
       "    <tr>\n",
       "      <th>4</th>\n",
       "      <td>5</td>\n",
       "      <td>0</td>\n",
       "      <td>3</td>\n",
       "      <td>Allen, Mr. William Henry</td>\n",
       "      <td>male</td>\n",
       "      <td>35.0</td>\n",
       "      <td>0</td>\n",
       "      <td>0</td>\n",
       "      <td>373450</td>\n",
       "      <td>8.0500</td>\n",
       "      <td>NaN</td>\n",
       "      <td>S</td>\n",
       "    </tr>\n",
       "  </tbody>\n",
       "</table>\n",
       "</div>"
      ],
      "text/plain": [
       "   PassengerId  Survived  Pclass  \\\n",
       "0            1         0       3   \n",
       "1            2         1       1   \n",
       "2            3         1       3   \n",
       "3            4         1       1   \n",
       "4            5         0       3   \n",
       "\n",
       "                                                Name     Sex   Age  SibSp  \\\n",
       "0                            Braund, Mr. Owen Harris    male  22.0      1   \n",
       "1  Cumings, Mrs. John Bradley (Florence Briggs Th...  female  38.0      1   \n",
       "2                             Heikkinen, Miss. Laina  female  26.0      0   \n",
       "3       Futrelle, Mrs. Jacques Heath (Lily May Peel)  female  35.0      1   \n",
       "4                           Allen, Mr. William Henry    male  35.0      0   \n",
       "\n",
       "   Parch            Ticket     Fare Cabin Embarked  \n",
       "0      0         A/5 21171   7.2500   NaN        S  \n",
       "1      0          PC 17599  71.2833   C85        C  \n",
       "2      0  STON/O2. 3101282   7.9250   NaN        S  \n",
       "3      0            113803  53.1000  C123        S  \n",
       "4      0            373450   8.0500   NaN        S  "
      ]
     },
     "execution_count": 3,
     "metadata": {},
     "output_type": "execute_result"
    }
   ],
   "source": [
    "#################################################\n",
    "# Initial \"head\" review of the DS.\n",
    "# Want a clear table representation of the whole data initially \n",
    "# so i will import it into a pd DataFrame first\n",
    "#################################################\n",
    "\n",
    "titanic_df = pd.read_csv(filename)\n",
    "titanic_df.head()"
   ]
  },
  {
   "cell_type": "markdown",
   "metadata": {},
   "source": [
    "## Getting additional info about the DS\n",
    "\n",
    "OK, it looks great. The Titanic dataset contain Name of passengers and some demographic data about them (age, sex) along with specific data related with the Titanic trip (and tragedy). The id of the data is a 'PassengerId' field. There are some columns that I did not fully understand the meaning (SibSp, Parch) so I will check out the source of this data to find out more info [Kaggle site] (https://www.kaggle.com/c/titanic/data)\n",
    "\n",
    "Find the following information about some the dataset fields from kaggle:\n",
    "\n",
    "*Data Dictionary*\n",
    "\n",
    "*Variable\tDefinition\tKey*\n",
    "*survival\tSurvival\t0 = No, 1 = Yes*\n",
    "*pclass\tTicket class\t1 = 1st, 2 = 2nd, 3 = 3rd*\n",
    "*sex\tSex*\n",
    "*Age\tAge in years*\n",
    "*sibsp\t# of siblings / spouses aboard the Titanic*\t\n",
    "*parch\t# of parents / children aboard the Titanic*\t\n",
    "*ticket\tTicket number*\n",
    "*fare\tPassenger fare*\t\n",
    "*cabin\tCabin number*\t\n",
    "*embarked\tPort of Embarkation\tC = Cherbourg, Q = Queenstown, S = Southampton*\n",
    "*Variable Notes*\n",
    "\n",
    "*pclass: A proxy for socio-economic status (SES)*\n",
    "*1st = Upper*\n",
    "*2nd = Middle*\n",
    "*3rd = Lower*\n",
    "\n",
    "*age: Age is fractional if less than 1. If the age is estimated, is it in the form of xx.5*\n",
    "\n",
    "*sibsp: The dataset defines family relations in this way...*\n",
    "*Sibling = brother, sister, stepbrother, stepsister*\n",
    "*Spouse = husband, wife (mistresses and fiancés were ignored)*\n",
    "\n",
    "*parch: The dataset defines family relations in this way...*\n",
    "*Parent = mother, father*\n",
    "*Child = daughter, son, stepdaughter, stepson*\n",
    "*Some children travelled only with a nanny, therefore parch=0 for them.*"
   ]
  },
  {
   "cell_type": "markdown",
   "metadata": {},
   "source": [
    "## Time for questions\n",
    "\n",
    "One of the reassons the Titanic tragedy is so attractive is , from my point of view, that it happenedh so close with the WW I that it seems to anticipate what it happened there : not matter your social class , a tragedy will hit us all.\n",
    "\n",
    "So I will start trying to understand if that is true. I will separate the titanic_df dataset in two different pandas ds : one with survivors and one with non-survivors. Then i will explore survivors by class. I will also want to know if people travelling in different clasess have significantly differences in demographic composition (around same age ? sex distribution ?). So I will formulate the questions more clearly :\n",
    "\n",
    "**1) What is the ratio of survived/non survived in 1st class passengers vs 3rd class passengers ?**\n",
    "\n",
    "**2) What is the difference in age and sex composition between 1st and 3rd class passengers ?**\n",
    "\n",
    "Will start there; probably initial answers will call for additional questions later"
   ]
  },
  {
   "cell_type": "code",
   "execution_count": 22,
   "metadata": {
    "collapsed": false
   },
   "outputs": [
    {
     "data": {
      "text/plain": [
       "True"
      ]
     },
     "execution_count": 22,
     "metadata": {},
     "output_type": "execute_result"
    }
   ],
   "source": [
    "############################################################\n",
    "# We'll start by separate the dataset in 2 new DS one for\n",
    "# survivers and other for non survivers\n",
    "############################################################\n",
    "\n",
    "non_survived_df = titanic_df[titanic_df.Survived == 0] # Survived = 0 means 'NO' in the Titanic DS\n",
    "survived_df = titanic_df[titanic_df.Survived == 1]     # Survived = 1 means 'YES' in the Titanic DS\n",
    "\n",
    "# Check if both new DS sum up to the total count of complete DS\n",
    "\n",
    "titanic_df['Survived'].count() == non_survived_df['Survived'].count() + survived_df['Survived'].count() # This should be 'True'"
   ]
  },
  {
   "cell_type": "markdown",
   "metadata": {},
   "source": [
    "OK, now we have 2 new DS's with information separated by the value of the 'Survived' field.\n",
    "Lets group and compute stats based on 'Pclass' which has information about the passenger class"
   ]
  },
  {
   "cell_type": "code",
   "execution_count": 57,
   "metadata": {
    "collapsed": false
   },
   "outputs": [
    {
     "data": {
      "image/png": "[encoded data removed]",
      "text/plain": [
       "<matplotlib.figure.Figure at 0x7f29896ea290>"
      ]
     },
     "metadata": {},
     "output_type": "display_data"
    }
   ],
   "source": [
    "#############################################################\n",
    "# \n",
    "#\n",
    "#############################################################\n",
    "\n",
    "\n",
    "#non_survived_df['Pclass'].count()\n",
    "#non_survived_df[non_survived_df.Pclass == 1]['Pclass'].count() \n",
    "#non_survived_df[non_survived_df.Pclass == 2]['Pclass'].count() \n",
    "#non_survived_df[non_survived_df.Pclass == 3]['Pclass']\n",
    "\n",
    "non_survived_per_class = non_survived_df['Pclass'].values\n",
    "\n",
    "labels = 'First class', 'Second class', 'Third class'\n",
    "non_survived = [70, 80, 300]\n",
    "plt.pie(non_survived, labels=labels ,autopct='%1.1f%%', shadow=True)\n",
    "#plt.ylabel('# of non survived')\n",
    "#plt.xlabel('Passenger class')\n",
    "plt.show()\n"
   ]
  },
  {
   "cell_type": "markdown",
   "metadata": {},
   "source": [
    "# Findings\n",
    "\n",
    "xxxxxxxxxxxxxxxxxxxxxxxxxxxxxxxxxxxxxxxxxxxxxxxxxxxxxxxxxxxxxxxxxx\n",
    "xxxxxxxxxxxxxxxxxxxxxxxxxxxxxxxxxxxxxxxxxxxxxxxxxxxxxxxxxxxxxxxxxxxxxx\n",
    "xxxxxxxxxxxxxxxxxxxxxxxxxxxxxxxxxxxxxxxxxxxxxxx"
   ]
  },
  {
   "cell_type": "markdown",
   "metadata": {},
   "source": [
    "### References\n",
    "- [Jupyter markdown reference] https://nbviewer.jupyter.org/github/jupyter/notebook/blob/master/docs/source/examples/Notebook/Working%20With%20Markdown%20Cells.ipynb\n",
    "\n",
    "- numpy_pandas_cheatsheet.pdf\n",
    "- [kaggle titanic data ref] https://www.kaggle.com/c/titanic/data\n",
    "- [numpy doc] https://docs.scipy.org/doc/\n",
    "- [pandas doc] http://pandas.pydata.org/pandas-docs/stable/\n",
    "- [datacarpentry.org entry on slicing datasets] http://chris.friedline.net/2015-12-15-rutgers/lessons/python2/02-index-slice-subset.html\n",
    "- [matplotlib doc] https://matplotlib.org/2.0.2/index.html"
   ]
  }
 ],
 "metadata": {
  "kernelspec": {
   "display_name": "Python 2",
   "language": "python",
   "name": "python2"
  },
  "language_info": {
   "codemirror_mode": {
    "name": "ipython",
    "version": 2
   },
   "file_extension": ".py",
   "mimetype": "text/x-python",
   "name": "python",
   "nbconvert_exporter": "python",
   "pygments_lexer": "ipython2",
   "version": "2.7.13"
  }
 },
 "nbformat": 4,
 "nbformat_minor": 2
}
